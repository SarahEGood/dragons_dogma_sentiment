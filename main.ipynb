{
 "cells": [
  {
   "cell_type": "markdown",
   "metadata": {},
   "source": [
    "# Dragon's Dogma II: Sentiment Analysis Overtime\n",
    "I basically decided to do this analysis as a way to test the *transformers* package and investigate general sentiment around the game Dragon's Dogma II. For the latter, I had heard the game was well designed but was suffering from backlash surrounding its high base game price ($69.99 USD at time of writing) and downloadable content (DLC). I thought it would be a relatively simple question to investigate."
   ]
  },
  {
   "cell_type": "markdown",
   "metadata": {},
   "source": [
    "# Required Packages"
   ]
  },
  {
   "cell_type": "code",
   "execution_count": 18,
   "metadata": {},
   "outputs": [],
   "source": [
    "# Import required packages\n",
    "from atproto import Client\n",
    "import pandas as pd\n",
    "import langid\n",
    "from transformers import pipeline\n",
    "import seaborn as sns\n",
    "import matplotlib.pyplot as plt"
   ]
  },
  {
   "cell_type": "markdown",
   "metadata": {},
   "source": [
    "## Using BlueSky\n",
    "We're going to be using BlueSky social media posts for a few reasons. First, BlueSky posts are free and fairly easy to source with their API using Atproto. Second, it will enable us to use existing models trained on posts (tweets) from X (formerly known) since posts on BlueSky are very similar in format due to similarities in how both social media platforms."
   ]
  },
  {
   "cell_type": "markdown",
   "metadata": {},
   "source": [
    "## Retrieving the Data\n",
    "The code below iterates through a couple variations of the name \"Dragon's Dogma II\" to cover multiple versions of the query. The data pulled includes:\n",
    "* Author: The account username attached to the post (ending in '.bsky.social')\n",
    "* Post text: The text in the post\n",
    "* Creation Date: Date the post was created\n",
    "* Tags: Any hashtags associated with the post (note: this will mostly be blank since hashtags were implemented on [February 28, 2024](https://bsky.app/profile/bsky.app/post/3kmjbfqrrbu2t)) "
   ]
  },
  {
   "cell_type": "code",
   "execution_count": 26,
   "metadata": {},
   "outputs": [],
   "source": [
    "# Set permutations of the game's name\n",
    "games = [\"Dragon's Dogma 2\",\n",
    "            \"Dragon's Dogma II\",\n",
    "            \"Dragons Dogma 2\",\n",
    "            \"Dragons Dogma II\"]\n",
    "\n",
    "# Set up atproto client object\n",
    "client = Client()\n",
    "client.login('username', 'password')\n",
    "\n",
    "# Initialize list that will hold entries (as list of lists)\n",
    "records = []\n",
    "\n",
    "# Loop over each permutation of the game's name\n",
    "for game in games:\n",
    "\n",
    "    # Manual limit on loops through search; no limit may cause code to crash from memory running out\n",
    "    internal_limit = 50\n",
    "\n",
    "    # Set first cursor to pagniate through query results\n",
    "    cursor = \"0\"\n",
    "\n",
    "    # Set limit counter\n",
    "    limit_counter = 1\n",
    "\n",
    "    # Iterate through loop to increment cursor, then grab post data\n",
    "    while cursor and internal_limit > limit_counter:\n",
    "        # Query to get search posts with atproto on Bluesky\n",
    "        x = client.app.bsky.feed.search_posts(params={'q': game,\n",
    "                                            'limit': 100,\n",
    "                                            'cursor': cursor})\n",
    "\n",
    "        # Iterate through post data\n",
    "        for item in x['posts']:\n",
    "            # Get items for new row\n",
    "            current_record = item['record']\n",
    "\n",
    "            # Get author, post body, tags, and post creation date\n",
    "            author = item['author']['handle']\n",
    "            post_text = current_record['text']\n",
    "            tags = current_record['tags']\n",
    "            creation_date = current_record['created_at']\n",
    "\n",
    "            \"\"\" Add records if they contain at least one keyword\n",
    "             (issue where some items didn't have the game name) \"\"\"\n",
    "            check_string = post_text.lower().strip(\"'\").replace(\"ii\", '2')\n",
    "\n",
    "            # Only add a record if it contains the words making up the title \"Dragon's Dogma 2\"\n",
    "            if all([word for word in ['dragons', 'dogma', '2'] if word in check_string]):\n",
    "\n",
    "                new_record = [creation_date,\n",
    "                            author,\n",
    "                            post_text,\n",
    "                            tags]\n",
    "\n",
    "\n",
    "                records.append(new_record)\n",
    "\n",
    "        # Bump counter for flipping through results\n",
    "        limit_counter += 1\n",
    "        cursor = str(int(cursor)+100)\n",
    "\n",
    "\n",
    "# Build and export dataframe\n",
    "df = pd.DataFrame(records,\n",
    "                  columns= ['post_date',\n",
    "                            'author',\n",
    "                            'post_text',\n",
    "                            'tags'])\n",
    "\n",
    "# Save while dropping duplicate entries\n",
    "df = df.loc[df.astype(str).drop_duplicates(subset=['post_date',\n",
    "                                                    'author',\n",
    "                                                    'post_text']).index]\n",
    "df = df[df['post_text'].notna()]\n",
    "df.to_csv('bsky_data.csv', index = False)"
   ]
  },
  {
   "cell_type": "markdown",
   "metadata": {},
   "source": [
    "## Preparing Data\n",
    "Before we can analyze our data, we need to make the following adjustments:\n",
    "* **Convert the \"post_date\" variable into datetime objects**: This will allow us to plot changes in sentiment overtime (especially before and after DLC pricing was announced and after the release date)\n",
    "* **Remove non-English posts**: Our sentiment model is only trained on English so we can only analyze posts in English."
   ]
  },
  {
   "cell_type": "code",
   "execution_count": 30,
   "metadata": {},
   "outputs": [
    {
     "data": {
      "text/html": [
       "<div>\n",
       "<style scoped>\n",
       "    .dataframe tbody tr th:only-of-type {\n",
       "        vertical-align: middle;\n",
       "    }\n",
       "\n",
       "    .dataframe tbody tr th {\n",
       "        vertical-align: top;\n",
       "    }\n",
       "\n",
       "    .dataframe thead th {\n",
       "        text-align: right;\n",
       "    }\n",
       "</style>\n",
       "<table border=\"1\" class=\"dataframe\">\n",
       "  <thead>\n",
       "    <tr style=\"text-align: right;\">\n",
       "      <th></th>\n",
       "      <th>post_date</th>\n",
       "      <th>author</th>\n",
       "      <th>post_text</th>\n",
       "      <th>tags</th>\n",
       "    </tr>\n",
       "  </thead>\n",
       "  <tbody>\n",
       "    <tr>\n",
       "      <th>0</th>\n",
       "      <td>2024-03-27T23:18:06.236Z</td>\n",
       "      <td>demikane.bsky.social</td>\n",
       "      <td>One of my pawns in Dragon's Dogma 2 called me ...</td>\n",
       "      <td>NaN</td>\n",
       "    </tr>\n",
       "    <tr>\n",
       "      <th>1</th>\n",
       "      <td>2024-03-27T23:10:44.001Z</td>\n",
       "      <td>bigtittyalchemy.biz</td>\n",
       "      <td>A lot of people are pissed off Dragon's Dogma ...</td>\n",
       "      <td>NaN</td>\n",
       "    </tr>\n",
       "    <tr>\n",
       "      <th>2</th>\n",
       "      <td>2024-03-27T23:08:41.425Z</td>\n",
       "      <td>fouroffivewits.com</td>\n",
       "      <td>Of all the bad faith criticism of Dragon's Dog...</td>\n",
       "      <td>NaN</td>\n",
       "    </tr>\n",
       "    <tr>\n",
       "      <th>3</th>\n",
       "      <td>2024-03-27T23:04:48.248Z</td>\n",
       "      <td>boardgamefeast.bsky.social</td>\n",
       "      <td>Dragon's Dogma 2 is the logical endpoint of re...</td>\n",
       "      <td>NaN</td>\n",
       "    </tr>\n",
       "    <tr>\n",
       "      <th>4</th>\n",
       "      <td>2024-03-27T23:00:56.189Z</td>\n",
       "      <td>princebeaco.bsky.social</td>\n",
       "      <td>100% agreed. Single player games should also n...</td>\n",
       "      <td>NaN</td>\n",
       "    </tr>\n",
       "  </tbody>\n",
       "</table>\n",
       "</div>"
      ],
      "text/plain": [
       "                  post_date                      author  \\\n",
       "0  2024-03-27T23:18:06.236Z        demikane.bsky.social   \n",
       "1  2024-03-27T23:10:44.001Z         bigtittyalchemy.biz   \n",
       "2  2024-03-27T23:08:41.425Z          fouroffivewits.com   \n",
       "3  2024-03-27T23:04:48.248Z  boardgamefeast.bsky.social   \n",
       "4  2024-03-27T23:00:56.189Z     princebeaco.bsky.social   \n",
       "\n",
       "                                           post_text tags  \n",
       "0  One of my pawns in Dragon's Dogma 2 called me ...  NaN  \n",
       "1  A lot of people are pissed off Dragon's Dogma ...  NaN  \n",
       "2  Of all the bad faith criticism of Dragon's Dog...  NaN  \n",
       "3  Dragon's Dogma 2 is the logical endpoint of re...  NaN  \n",
       "4  100% agreed. Single player games should also n...  NaN  "
      ]
     },
     "execution_count": 30,
     "metadata": {},
     "output_type": "execute_result"
    }
   ],
   "source": [
    "# Import the data and display the first few rows\n",
    "df = pd.read_csv('bsky_data.csv')\n",
    "df = df[df['post_text'].notna()]\n",
    "df.head()"
   ]
  },
  {
   "cell_type": "markdown",
   "metadata": {},
   "source": [
    "### Convert \"post_date\" to a datetime object\n",
    "Converting to a datetime object is fairly simple since the timestamps are in ISO8601 format"
   ]
  },
  {
   "cell_type": "code",
   "execution_count": 31,
   "metadata": {},
   "outputs": [
    {
     "data": {
      "text/html": [
       "<div>\n",
       "<style scoped>\n",
       "    .dataframe tbody tr th:only-of-type {\n",
       "        vertical-align: middle;\n",
       "    }\n",
       "\n",
       "    .dataframe tbody tr th {\n",
       "        vertical-align: top;\n",
       "    }\n",
       "\n",
       "    .dataframe thead th {\n",
       "        text-align: right;\n",
       "    }\n",
       "</style>\n",
       "<table border=\"1\" class=\"dataframe\">\n",
       "  <thead>\n",
       "    <tr style=\"text-align: right;\">\n",
       "      <th></th>\n",
       "      <th>post_date</th>\n",
       "      <th>author</th>\n",
       "      <th>post_text</th>\n",
       "      <th>tags</th>\n",
       "    </tr>\n",
       "  </thead>\n",
       "  <tbody>\n",
       "    <tr>\n",
       "      <th>0</th>\n",
       "      <td>2024-03-27 23:18:06.236000+00:00</td>\n",
       "      <td>demikane.bsky.social</td>\n",
       "      <td>One of my pawns in Dragon's Dogma 2 called me ...</td>\n",
       "      <td>NaN</td>\n",
       "    </tr>\n",
       "    <tr>\n",
       "      <th>1</th>\n",
       "      <td>2024-03-27 23:10:44.001000+00:00</td>\n",
       "      <td>bigtittyalchemy.biz</td>\n",
       "      <td>A lot of people are pissed off Dragon's Dogma ...</td>\n",
       "      <td>NaN</td>\n",
       "    </tr>\n",
       "    <tr>\n",
       "      <th>2</th>\n",
       "      <td>2024-03-27 23:08:41.425000+00:00</td>\n",
       "      <td>fouroffivewits.com</td>\n",
       "      <td>Of all the bad faith criticism of Dragon's Dog...</td>\n",
       "      <td>NaN</td>\n",
       "    </tr>\n",
       "    <tr>\n",
       "      <th>3</th>\n",
       "      <td>2024-03-27 23:04:48.248000+00:00</td>\n",
       "      <td>boardgamefeast.bsky.social</td>\n",
       "      <td>Dragon's Dogma 2 is the logical endpoint of re...</td>\n",
       "      <td>NaN</td>\n",
       "    </tr>\n",
       "    <tr>\n",
       "      <th>4</th>\n",
       "      <td>2024-03-27 23:00:56.189000+00:00</td>\n",
       "      <td>princebeaco.bsky.social</td>\n",
       "      <td>100% agreed. Single player games should also n...</td>\n",
       "      <td>NaN</td>\n",
       "    </tr>\n",
       "  </tbody>\n",
       "</table>\n",
       "</div>"
      ],
      "text/plain": [
       "                         post_date                      author  \\\n",
       "0 2024-03-27 23:18:06.236000+00:00        demikane.bsky.social   \n",
       "1 2024-03-27 23:10:44.001000+00:00         bigtittyalchemy.biz   \n",
       "2 2024-03-27 23:08:41.425000+00:00          fouroffivewits.com   \n",
       "3 2024-03-27 23:04:48.248000+00:00  boardgamefeast.bsky.social   \n",
       "4 2024-03-27 23:00:56.189000+00:00     princebeaco.bsky.social   \n",
       "\n",
       "                                           post_text tags  \n",
       "0  One of my pawns in Dragon's Dogma 2 called me ...  NaN  \n",
       "1  A lot of people are pissed off Dragon's Dogma ...  NaN  \n",
       "2  Of all the bad faith criticism of Dragon's Dog...  NaN  \n",
       "3  Dragon's Dogma 2 is the logical endpoint of re...  NaN  \n",
       "4  100% agreed. Single player games should also n...  NaN  "
      ]
     },
     "execution_count": 31,
     "metadata": {},
     "output_type": "execute_result"
    }
   ],
   "source": [
    "df['post_date'] = pd.to_datetime(df['post_date'], format='ISO8601', utc=True)\n",
    "df.head()"
   ]
  },
  {
   "cell_type": "markdown",
   "metadata": {},
   "source": [
    "### Remove non-English Posts\n",
    "Since our sentiment model only works with English posts, we're going to filter out non-English posts using the *langid* and it's language classification model. This works by analyzing a text and classifying it by which language it is in. Since it's a machine learning model, it's not a perfect or ideal solution compared to manually filtering this data, but I've decided to use it due to the volume of the data (nearly 11k posts)."
   ]
  },
  {
   "cell_type": "code",
   "execution_count": 32,
   "metadata": {},
   "outputs": [
    {
     "name": "stdout",
     "output_type": "stream",
     "text": [
      "                         post_date                      author  \\\n",
      "0 2024-03-27 23:18:06.236000+00:00        demikane.bsky.social   \n",
      "1 2024-03-27 23:10:44.001000+00:00         bigtittyalchemy.biz   \n",
      "2 2024-03-27 23:08:41.425000+00:00          fouroffivewits.com   \n",
      "3 2024-03-27 23:04:48.248000+00:00  boardgamefeast.bsky.social   \n",
      "4 2024-03-27 23:00:56.189000+00:00     princebeaco.bsky.social   \n",
      "\n",
      "                                           post_text tags language  lang_score  \n",
      "0  One of my pawns in Dragon's Dogma 2 called me ...  NaN       en -240.358485  \n",
      "1  A lot of people are pissed off Dragon's Dogma ...  NaN       en -646.969551  \n",
      "2  Of all the bad faith criticism of Dragon's Dog...  NaN       en -495.657295  \n",
      "3  Dragon's Dogma 2 is the logical endpoint of re...  NaN       en -107.413521  \n",
      "4  100% agreed. Single player games should also n...  NaN       en -263.410423  \n"
     ]
    }
   ],
   "source": [
    "# Run the texts of each post through the classifier model\n",
    "lang_scores = df.apply(lambda x: langid.classify(x['post_text']), axis=1)\n",
    "\n",
    "# Assign each component of the results to columns and print the new head of the dataframe\n",
    "df['language'] = lang_scores.apply(lambda x: x[0])\n",
    "df['lang_score'] = lang_scores.apply(lambda x: x[1])\n",
    "print(df.head())\n",
    "\n",
    "# Save dataframes (first with all languages, then with English only)\n",
    "df.to_csv('bsky_data_lang.csv', index = False)\n",
    "\n",
    "df_en = df[df['language'] == 'en']\n",
    "df_en.to_csv('bsky_en.csv', index = False)"
   ]
  },
  {
   "cell_type": "code",
   "execution_count": 33,
   "metadata": {},
   "outputs": [
    {
     "data": {
      "text/html": [
       "<div>\n",
       "<style scoped>\n",
       "    .dataframe tbody tr th:only-of-type {\n",
       "        vertical-align: middle;\n",
       "    }\n",
       "\n",
       "    .dataframe tbody tr th {\n",
       "        vertical-align: top;\n",
       "    }\n",
       "\n",
       "    .dataframe thead th {\n",
       "        text-align: right;\n",
       "    }\n",
       "</style>\n",
       "<table border=\"1\" class=\"dataframe\">\n",
       "  <thead>\n",
       "    <tr style=\"text-align: right;\">\n",
       "      <th></th>\n",
       "      <th>post_date</th>\n",
       "      <th>author</th>\n",
       "      <th>post_text</th>\n",
       "      <th>tags</th>\n",
       "      <th>language</th>\n",
       "      <th>lang_score</th>\n",
       "    </tr>\n",
       "  </thead>\n",
       "  <tbody>\n",
       "    <tr>\n",
       "      <th>0</th>\n",
       "      <td>2024-03-27 23:18:06.236000+00:00</td>\n",
       "      <td>demikane.bsky.social</td>\n",
       "      <td>One of my pawns in Dragon's Dogma 2 called me ...</td>\n",
       "      <td>NaN</td>\n",
       "      <td>en</td>\n",
       "      <td>-240.358485</td>\n",
       "    </tr>\n",
       "    <tr>\n",
       "      <th>1</th>\n",
       "      <td>2024-03-27 23:10:44.001000+00:00</td>\n",
       "      <td>bigtittyalchemy.biz</td>\n",
       "      <td>A lot of people are pissed off Dragon's Dogma ...</td>\n",
       "      <td>NaN</td>\n",
       "      <td>en</td>\n",
       "      <td>-646.969551</td>\n",
       "    </tr>\n",
       "    <tr>\n",
       "      <th>2</th>\n",
       "      <td>2024-03-27 23:08:41.425000+00:00</td>\n",
       "      <td>fouroffivewits.com</td>\n",
       "      <td>Of all the bad faith criticism of Dragon's Dog...</td>\n",
       "      <td>NaN</td>\n",
       "      <td>en</td>\n",
       "      <td>-495.657295</td>\n",
       "    </tr>\n",
       "    <tr>\n",
       "      <th>3</th>\n",
       "      <td>2024-03-27 23:04:48.248000+00:00</td>\n",
       "      <td>boardgamefeast.bsky.social</td>\n",
       "      <td>Dragon's Dogma 2 is the logical endpoint of re...</td>\n",
       "      <td>NaN</td>\n",
       "      <td>en</td>\n",
       "      <td>-107.413521</td>\n",
       "    </tr>\n",
       "    <tr>\n",
       "      <th>4</th>\n",
       "      <td>2024-03-27 23:00:56.189000+00:00</td>\n",
       "      <td>princebeaco.bsky.social</td>\n",
       "      <td>100% agreed. Single player games should also n...</td>\n",
       "      <td>NaN</td>\n",
       "      <td>en</td>\n",
       "      <td>-263.410423</td>\n",
       "    </tr>\n",
       "  </tbody>\n",
       "</table>\n",
       "</div>"
      ],
      "text/plain": [
       "                          post_date                      author  \\\n",
       "0  2024-03-27 23:18:06.236000+00:00        demikane.bsky.social   \n",
       "1  2024-03-27 23:10:44.001000+00:00         bigtittyalchemy.biz   \n",
       "2  2024-03-27 23:08:41.425000+00:00          fouroffivewits.com   \n",
       "3  2024-03-27 23:04:48.248000+00:00  boardgamefeast.bsky.social   \n",
       "4  2024-03-27 23:00:56.189000+00:00     princebeaco.bsky.social   \n",
       "\n",
       "                                           post_text tags language  lang_score  \n",
       "0  One of my pawns in Dragon's Dogma 2 called me ...  NaN       en -240.358485  \n",
       "1  A lot of people are pissed off Dragon's Dogma ...  NaN       en -646.969551  \n",
       "2  Of all the bad faith criticism of Dragon's Dog...  NaN       en -495.657295  \n",
       "3  Dragon's Dogma 2 is the logical endpoint of re...  NaN       en -107.413521  \n",
       "4  100% agreed. Single player games should also n...  NaN       en -263.410423  "
      ]
     },
     "execution_count": 33,
     "metadata": {},
     "output_type": "execute_result"
    }
   ],
   "source": [
    "# Re-import the data with only the english data\n",
    "df = pd.read_csv('bsky_en.csv')\n",
    "df.head()"
   ]
  },
  {
   "cell_type": "markdown",
   "metadata": {},
   "source": [
    "## Quick EDA\n",
    "Before proceeding, we'll create a graph that gives us an idea of how the data is distributed so far by year and month. This way, we'll see if there are any issues with how posts are distributed by date. This is because we should expect a strong left skew distribution in the number of posts towards the release of the game."
   ]
  },
  {
   "cell_type": "code",
   "execution_count": 40,
   "metadata": {},
   "outputs": [
    {
     "data": {
      "text/html": [
       "<div>\n",
       "<style scoped>\n",
       "    .dataframe tbody tr th:only-of-type {\n",
       "        vertical-align: middle;\n",
       "    }\n",
       "\n",
       "    .dataframe tbody tr th {\n",
       "        vertical-align: top;\n",
       "    }\n",
       "\n",
       "    .dataframe thead th {\n",
       "        text-align: right;\n",
       "    }\n",
       "</style>\n",
       "<table border=\"1\" class=\"dataframe\">\n",
       "  <thead>\n",
       "    <tr style=\"text-align: right;\">\n",
       "      <th></th>\n",
       "      <th>post_date</th>\n",
       "      <th>author</th>\n",
       "      <th>post_text</th>\n",
       "      <th>tags</th>\n",
       "      <th>language</th>\n",
       "      <th>lang_score</th>\n",
       "      <th>year_month</th>\n",
       "    </tr>\n",
       "  </thead>\n",
       "  <tbody>\n",
       "    <tr>\n",
       "      <th>2415</th>\n",
       "      <td>2023-05-24 20:44:31.405000+00:00</td>\n",
       "      <td>spearmint.bsky.social</td>\n",
       "      <td>dragon's dogma 2 real!!!!!!!!!!!!!!!!</td>\n",
       "      <td>NaN</td>\n",
       "      <td>en</td>\n",
       "      <td>-12.811050</td>\n",
       "      <td>2023-05</td>\n",
       "    </tr>\n",
       "    <tr>\n",
       "      <th>2414</th>\n",
       "      <td>2023-05-24 20:44:35.064000+00:00</td>\n",
       "      <td>aidanmoher.com</td>\n",
       "      <td>Dragon's Dogma 2 looking *sharp*.</td>\n",
       "      <td>NaN</td>\n",
       "      <td>en</td>\n",
       "      <td>2.724679</td>\n",
       "      <td>2023-05</td>\n",
       "    </tr>\n",
       "    <tr>\n",
       "      <th>2413</th>\n",
       "      <td>2023-05-24 20:45:03.444000+00:00</td>\n",
       "      <td>ivansayoray.bsky.social</td>\n",
       "      <td>Oh WOW! Dragon’s Dogma 2!</td>\n",
       "      <td>NaN</td>\n",
       "      <td>en</td>\n",
       "      <td>9.061840</td>\n",
       "      <td>2023-05</td>\n",
       "    </tr>\n",
       "    <tr>\n",
       "      <th>2563</th>\n",
       "      <td>2023-05-24 20:49:19.039000+00:00</td>\n",
       "      <td>isimon.bsky.social</td>\n",
       "      <td>Dragon's Dogma II</td>\n",
       "      <td>NaN</td>\n",
       "      <td>en</td>\n",
       "      <td>2.724679</td>\n",
       "      <td>2023-05</td>\n",
       "    </tr>\n",
       "    <tr>\n",
       "      <th>2412</th>\n",
       "      <td>2023-05-24 21:15:44.834000+00:00</td>\n",
       "      <td>aidanmoher.com</td>\n",
       "      <td>Ehhhhhh. Metal Gear, Final Fantasy, Dragon's D...</td>\n",
       "      <td>NaN</td>\n",
       "      <td>en</td>\n",
       "      <td>-395.918580</td>\n",
       "      <td>2023-05</td>\n",
       "    </tr>\n",
       "  </tbody>\n",
       "</table>\n",
       "</div>"
      ],
      "text/plain": [
       "                            post_date                   author  \\\n",
       "2415 2023-05-24 20:44:31.405000+00:00    spearmint.bsky.social   \n",
       "2414 2023-05-24 20:44:35.064000+00:00           aidanmoher.com   \n",
       "2413 2023-05-24 20:45:03.444000+00:00  ivansayoray.bsky.social   \n",
       "2563 2023-05-24 20:49:19.039000+00:00       isimon.bsky.social   \n",
       "2412 2023-05-24 21:15:44.834000+00:00           aidanmoher.com   \n",
       "\n",
       "                                              post_text tags language  \\\n",
       "2415              dragon's dogma 2 real!!!!!!!!!!!!!!!!  NaN       en   \n",
       "2414                  Dragon's Dogma 2 looking *sharp*.  NaN       en   \n",
       "2413                          Oh WOW! Dragon’s Dogma 2!  NaN       en   \n",
       "2563                                  Dragon's Dogma II  NaN       en   \n",
       "2412  Ehhhhhh. Metal Gear, Final Fantasy, Dragon's D...  NaN       en   \n",
       "\n",
       "      lang_score year_month  \n",
       "2415  -12.811050    2023-05  \n",
       "2414    2.724679    2023-05  \n",
       "2413    9.061840    2023-05  \n",
       "2563    2.724679    2023-05  \n",
       "2412 -395.918580    2023-05  "
      ]
     },
     "execution_count": 40,
     "metadata": {},
     "output_type": "execute_result"
    }
   ],
   "source": [
    "df_date = df.copy().sort_values('post_date', ascending=True)\n",
    "df_date['post_date'] = pd.to_datetime(df_date['post_date'], format='ISO8601', utc=True)\n",
    "df_date['year_month'] = df_date['post_date'].apply(lambda x: x.strftime('%Y-%m'))\n",
    "df_date.head()"
   ]
  },
  {
   "cell_type": "code",
   "execution_count": 43,
   "metadata": {},
   "outputs": [
    {
     "data": {
      "text/plain": [
       "year_month\n",
       "2023-05      15\n",
       "2023-06       5\n",
       "2023-07      12\n",
       "2023-08      12\n",
       "2023-09      94\n",
       "2023-10      15\n",
       "2023-11     140\n",
       "2023-12      45\n",
       "2024-01     167\n",
       "2024-02     163\n",
       "2024-03    2634\n",
       "Name: post_date, dtype: int64"
      ]
     },
     "execution_count": 43,
     "metadata": {},
     "output_type": "execute_result"
    }
   ],
   "source": [
    "# Get counts of posts by month\n",
    "df_date.groupby('year_month')['post_date'].count()"
   ]
  },
  {
   "cell_type": "code",
   "execution_count": 44,
   "metadata": {},
   "outputs": [
    {
     "data": {
      "image/png": "[encoded data removed]",
      "text/plain": [
       "<Figure size 640x480 with 1 Axes>"
      ]
     },
     "metadata": {},
     "output_type": "display_data"
    }
   ],
   "source": [
    "sns.countplot(df_date, x='year_month')\n",
    "plt.title(\"Number of Posts Relating to Dragon's Dogma II on Bluesky\")\n",
    "plt.xlabel('Date')\n",
    "plt.ylabel('Number of Posts')\n",
    "plt.xticks(rotation=90)\n",
    "plt.show()"
   ]
  },
  {
   "cell_type": "markdown",
   "metadata": {},
   "source": [
    "The post distribution is as expected. Most posts have been made in March 2024 which is when the game released, but there are a fair few from the months leading up to the release. This is likely due to news related to the release such as the [announcement of pricing for the game on November 29 2023](https://www.purexbox.com/news/2023/11/capcom-has-officially-raised-its-prices-with-the-arrival-of-dragons-dogma-2)."
   ]
  },
  {
   "cell_type": "markdown",
   "metadata": {},
   "source": [
    "## Sentiment Model\n",
    "Now that we have our data prepared, it's now time to run it through a sentiment model to determine the sentiment of each post. We'll be using the Twitter-roBERTa-base for our project since Twitter posts are quite similar in format to BlueSky posts. Therefore, the model is expected to perform reasonably well for this purpose.\n",
    "\n",
    "Note that there are some limitations with using a model like this, since it may not be entirely accurate, especially with text where sentiment is mixed."
   ]
  },
  {
   "cell_type": "code",
   "execution_count": 34,
   "metadata": {},
   "outputs": [
    {
     "name": "stderr",
     "output_type": "stream",
     "text": [
      "Some weights of the model checkpoint at cardiffnlp/twitter-roberta-base-sentiment-latest were not used when initializing RobertaForSequenceClassification: ['roberta.pooler.dense.bias', 'roberta.pooler.dense.weight']\n",
      "- This IS expected if you are initializing RobertaForSequenceClassification from the checkpoint of a model trained on another task or with another architecture (e.g. initializing a BertForSequenceClassification model from a BertForPreTraining model).\n",
      "- This IS NOT expected if you are initializing RobertaForSequenceClassification from the checkpoint of a model that you expect to be exactly identical (initializing a BertForSequenceClassification model from a BertForSequenceClassification model).\n"
     ]
    },
    {
     "name": "stdout",
     "output_type": "stream",
     "text": [
      "0    [{'label': 'negative', 'score': 0.648339748382...\n",
      "1    [{'label': 'negative', 'score': 0.827004790306...\n",
      "2    [{'label': 'negative', 'score': 0.928479790687...\n",
      "3    [{'label': 'neutral', 'score': 0.5741391181945...\n",
      "4    [{'label': 'positive', 'score': 0.459432810544...\n",
      "dtype: object\n"
     ]
    }
   ],
   "source": [
    "# Use transformers package to set up pipeline to use Twitter-roBERTa-base model\n",
    "sentiment_pipeline = pipeline(\"text-classification\", model=\"cardiffnlp/twitter-roberta-base-sentiment-latest\")\n",
    "\n",
    "# Apply model to post_text\n",
    "sentiment_scores = df.apply(lambda x: sentiment_pipeline(x['post_text']), axis=1)\n",
    "print(sentiment_scores[:5])"
   ]
  },
  {
   "cell_type": "code",
   "execution_count": 45,
   "metadata": {},
   "outputs": [],
   "source": [
    "# Apply sentiment data to data and save\n",
    "sentiment_scores = sentiment_scores.apply(lambda x: x[0])\n",
    "\n",
    "df['sentiment_label'] = sentiment_scores.apply(lambda x: x['label'])\n",
    "df['sentiment_score'] = sentiment_scores.apply(lambda x: x['score'])\n",
    "df.head(10)\n",
    "\n",
    "df.to_csv('bsky_en.csv', index=False)"
   ]
  },
  {
   "cell_type": "markdown",
   "metadata": {},
   "source": [
    "## Graphing Sentiment Data\n",
    "First, we'll make a graph on month and year increments like we did with the counts in the test graph earlier. But this time, we'll be able to separate different counts by sentiment."
   ]
  },
  {
   "cell_type": "code",
   "execution_count": 73,
   "metadata": {},
   "outputs": [
    {
     "data": {
      "image/png": "[encoded data removed]",
      "text/plain": [
       "<Figure size 640x480 with 1 Axes>"
      ]
     },
     "metadata": {},
     "output_type": "display_data"
    }
   ],
   "source": [
    "sns.set_theme(style='whitegrid')\n",
    "\n",
    "g = sns.countplot(\n",
    "    df_date,\n",
    "    x='year_month',\n",
    "    hue='sentiment_label',\n",
    "    hue_order= ['positive','neutral','negative'],\n",
    "    palette=[\"#10a900\", \"#ffae0e\", \"#d00000\"]\n",
    ")\n",
    "plt.xlabel('Month')\n",
    "plt.ylabel('Post Count')\n",
    "plt.legend(title='Sentiment Label')\n",
    "plt.xticks(rotation=90)\n",
    "plt.title(\"BlueSky Post Sentiment on Dragon's Dogma II\")\n",
    "plt.show()"
   ]
  },
  {
   "cell_type": "markdown",
   "metadata": {},
   "source": [
    "We see mostly positive and neutral sentiments in earlier months, but we also should separate the data out by before and after the release date since the game was released on March 22 2024. (Hence why most posts come from that month.)"
   ]
  },
  {
   "cell_type": "code",
   "execution_count": 75,
   "metadata": {},
   "outputs": [
    {
     "data": {
      "image/png": "[encoded data removed]",
      "text/plain": [
       "<Figure size 640x480 with 1 Axes>"
      ]
     },
     "metadata": {},
     "output_type": "display_data"
    }
   ],
   "source": [
    "df_date['post_release'] = df_date['post_date'] >= '2024-03-22'\n",
    "\n",
    "g = sns.countplot(\n",
    "    df_date,\n",
    "    x='post_release',\n",
    "    hue='sentiment_label',\n",
    "    hue_order= ['positive','neutral','negative'],\n",
    "    palette=[\"#10a900\", \"#ffae0e\", \"#d00000\"]\n",
    ")\n",
    "plt.xlabel('Post Date Relative to Release Date (March 22 2024)')\n",
    "plt.ylabel('Post Count')\n",
    "plt.legend(title='Sentiment Label')\n",
    "plt.xticks(ticks=[False, True], labels=['Before','On/After'],rotation=90)\n",
    "plt.title(\"BlueSky Post Sentiment on Dragon's Dogma II Before and after Release\")\n",
    "plt.show()"
   ]
  },
  {
   "cell_type": "markdown",
   "metadata": {},
   "source": [
    "It appears that not only were there more posts on the game on and after release, there has also been a greater proportion of negative posts relative to positive and neutral ones. This suggests that the release has been controversial. There are a number of reasons that have likely contributed to this:\n",
    "* The base game costs $69.99 (USD) on Steam, which some have criticized as too high, especially since this game does not have regional pricing. That is, this game costs the same even in regions where average purchasing power is lower than the US.\n",
    "* The downloadable content (DLC) for this game has been criticized as [selling game functionality back to players](https://www.thegamer.com/dragons-dogma-2-microtransactions-dlc/) and as a potential strategy for raising game prices overtime.\n",
    "* The game itself also has had mixed reviews on how it plays, especially in comparison to the original Dragon's Dogma."
   ]
  },
  {
   "cell_type": "markdown",
   "metadata": {},
   "source": [
    "## Limitations\n",
    "To quantify how accurate the model was on this dataset would require manually checking at least a sample of the data, but on a cursory look, the model did seem relatively accurate in 80-90% of cases. However, this shows that these models are subject to error. Part of the source of this error is because this model is actually measuring the sentiment of the post itself, not relative to the topic we're trying to observe (the game). Additionally, the model can sometimes get the sentiment itself incorrect in the first place."
   ]
  },
  {
   "cell_type": "markdown",
   "metadata": {},
   "source": [
    "Here are a few examples of miscategorization that I found.\n",
    "\n",
    "| post_date                        | author                 | post_text                                                                                                                                                                                                                                                                         | sentiment_label | sentiment_score   |\n",
    "| -------------------------------- | ---------------------- | --------------------------------------------------------------------------------------------------------------------------------------------------------------------------------------------------------------------------------------------------------------------------------- | --------------- | ----------------- |\n",
    "| 2024-03-27 18:33:42.290000+00:00 | abrahmeden.bsky.social | Dragon's Dogma 2 is seventy bucks 🪦                                                                                                                                                                                                                                              | neutral         | 0.668060958385468 |\n",
    "| 2024-03-27 15:53:57.821000+00:00 | mandydandy.bsky.social | being forced to participate in capitalism when i wanna play dragon's dogma 2... wah......                                                                                                                                                                                         | negative        | 0.816302537918091 |\n",
    "| 2024-03-27 12:52:18.312000+00:00 | kelzor.bsky.social     | I think a lot of people jump to the conclusion that what they like about an experience like Dragon's Dogma 2 is \"systemic\" or \"the friction\" when in fact it's something much more vague: the \"jank\". Jank is a factor in video games that AAAs want to erase, and they're wrong. | negative        | 0.670968592166901 |\n",
    "\n",
    "Notice how model doesn't categorize the first post correctly (perhaps because of the emoji?) and categorizes the second as negative because the post itself expresses a negative sentiment in general, not about the game. Lastly, the last post is relatively neutral but the text seems to use negative-ish language that probably confused the model."
   ]
  }
 ],
 "metadata": {
  "kernelspec": {
   "display_name": "base",
   "language": "python",
   "name": "python3"
  },
  "language_info": {
   "codemirror_mode": {
    "name": "ipython",
    "version": 3
   },
   "file_extension": ".py",
   "mimetype": "text/x-python",
   "name": "python",
   "nbconvert_exporter": "python",
   "pygments_lexer": "ipython3",
   "version": "3.11.8"
  }
 },
 "nbformat": 4,
 "nbformat_minor": 2
}
